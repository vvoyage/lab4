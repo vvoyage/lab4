{
 "cells": [
  {
   "cell_type": "markdown",
   "id": "3085ec43-34bb-4afb-9515-517e0489db3e",
   "metadata": {},
   "source": [
    "## Ансамбли и полносвязные нейронные сети\n",
    "В этом ноутбуке вам нужно обучить модели на датасете классификации из предыдущего ноутбука и сравнить результаты. Вам будет предоставлен baseline, на основе которого вы будете доделывать предсказывающие модели. Оценка лабы будет зависеть от ROC-AUC на тестовых данных по следующим критериям:\n",
    "\\\n",
    "AUC - на тестовых данных\n",
    "- $AUC \\leq 0.76$ - 0 баллов\n",
    "- $0.76 < AUC \\leq 0.77$ - 2 балла\n",
    "- $0.77 < AUC \\leq 0.78$ - 4 балла\n",
    "- $0.78 < AUC \\leq 0.79$ - 6 баллов\n",
    "- $0.79 < AUC \\leq 0.80$ - 8 баллов\n",
    "- $AUC > 0.80$ - 10 баллов\n"
   ]
  },
  {
   "cell_type": "code",
   "execution_count": 6,
   "id": "ec07e3a2-480a-4350-868e-02679ff2aada",
   "metadata": {
    "tags": []
   },
   "outputs": [],
   "source": [
    "from sklearn.ensemble import RandomForestClassifier, GradientBoostingClassifier\n",
    "from sklearn.neural_network import MLPClassifier\n",
    "\n",
    "from sklearn.metrics import roc_auc_score, precision_score, recall_score, roc_curve, accuracy_score\n",
    "\n",
    "from sklearn.model_selection import train_test_split\n",
    "\n",
    "import matplotlib.pyplot as plt\n",
    "import pandas as pd\n",
    "import numpy as np"
   ]
  },
  {
   "cell_type": "code",
   "execution_count": 7,
   "id": "563ad31b-5c83-4366-819a-34dad4edecdc",
   "metadata": {
    "tags": []
   },
   "outputs": [
    {
     "name": "stdout",
     "output_type": "stream",
     "text": [
      "   Creditability  Account_Balance  Duration_of_Credit_monthly  \\\n",
      "0              1                1                          18   \n",
      "1              1                1                           9   \n",
      "2              1                2                          12   \n",
      "3              1                1                          12   \n",
      "4              1                1                          12   \n",
      "\n",
      "   Payment_Status_of_Previous_Credit  Purpose  Credit_Amount  \\\n",
      "0                                  4        2           1049   \n",
      "1                                  4        0           2799   \n",
      "2                                  2        9            841   \n",
      "3                                  4        0           2122   \n",
      "4                                  4        0           2171   \n",
      "\n",
      "   Value_Savings_Stocks  Length_of_current_employment  Instalment_per_cent  \\\n",
      "0                     1                             2                    4   \n",
      "1                     1                             3                    2   \n",
      "2                     2                             4                    2   \n",
      "3                     1                             3                    3   \n",
      "4                     1                             3                    4   \n",
      "\n",
      "   Sex_Marital_Status  ...  Duration_in_Current_address  \\\n",
      "0                   2  ...                            4   \n",
      "1                   3  ...                            2   \n",
      "2                   2  ...                            4   \n",
      "3                   3  ...                            2   \n",
      "4                   3  ...                            4   \n",
      "\n",
      "   Most_valuable_available_asset  Age_years  Concurrent_Credits  \\\n",
      "0                              2         21                   3   \n",
      "1                              1         36                   3   \n",
      "2                              1         23                   3   \n",
      "3                              1         39                   3   \n",
      "4                              2         38                   1   \n",
      "\n",
      "   Type_of_apartment  No_of_Credits_at_this_Bank  Occupation  \\\n",
      "0                  1                           1           3   \n",
      "1                  1                           2           3   \n",
      "2                  1                           1           2   \n",
      "3                  1                           2           2   \n",
      "4                  2                           2           2   \n",
      "\n",
      "   No_of_dependents  Telephone  Foreign_Worker  \n",
      "0                 1          1               1  \n",
      "1                 2          1               1  \n",
      "2                 1          1               1  \n",
      "3                 2          1               2  \n",
      "4                 1          1               2  \n",
      "\n",
      "[5 rows x 21 columns]\n"
     ]
    }
   ],
   "source": [
    "data = pd.read_csv('german.csv', sep=';')\n",
    "print(data.head())\n",
    "\n",
    "X = data.iloc[:, 1:].to_numpy()\n",
    "y = data.iloc[:, 0].to_numpy()\n",
    "\n",
    "X_train, X_test, y_train, y_test = train_test_split(X, y, test_size=0.2, random_state=42)"
   ]
  },
  {
   "cell_type": "code",
   "execution_count": 8,
   "id": "f93737ec-e5eb-4d72-8beb-5dba4d4c581f",
   "metadata": {
    "tags": []
   },
   "outputs": [
    {
     "data": {
      "image/png": "[encoded data removed]",
      "text/plain": [
       "<Figure size 640x480 with 1 Axes>"
      ]
     },
     "metadata": {},
     "output_type": "display_data"
    }
   ],
   "source": [
    "plt.hist(y_train, bins=2, edgecolor='k')\n",
    "plt.xticks([0, 1])\n",
    "plt.xlabel('Class (0: Non-Creditworthy, 1: Creditworthy)')\n",
    "plt.ylabel('Count')\n",
    "plt.title('Distribution of Classes in Training Data')\n",
    "plt.show()"
   ]
  },
  {
   "cell_type": "code",
   "execution_count": 9,
   "id": "c1cf8d00-92a3-4b62-bca4-d854b72574d1",
   "metadata": {
    "tags": []
   },
   "outputs": [
    {
     "name": "stdout",
     "output_type": "stream",
     "text": [
      "Random Forest метрики:\n",
      "ROC AUC: 0.68\n",
      "Accuracy: 0.76\n",
      "Precision: 0.78\n",
      "Recall: 0.90\n",
      "\n",
      "Gradient Boosting метрики:\n",
      "ROC AUC: 0.67\n",
      "Accuracy: 0.73\n",
      "Precision: 0.79\n",
      "Recall: 0.84\n"
     ]
    }
   ],
   "source": [
    "# Обучение Random Forest\n",
    "rf_model = RandomForestClassifier(n_estimators=100, random_state=42)\n",
    "rf_model.fit(X_train, y_train)\n",
    "\n",
    "# Прогноз на тестовых данных\n",
    "rf_pred = rf_model.predict(X_test)\n",
    "\n",
    "# Расчет метрик для Random Forest\n",
    "rf_roc_auc = roc_auc_score(y_test, rf_pred)\n",
    "rf_accuracy = accuracy_score(y_test, rf_pred)\n",
    "rf_precision = precision_score(y_test, rf_pred)\n",
    "rf_recall = recall_score(y_test, rf_pred)\n",
    "\n",
    "print(\"Random Forest метрики:\")\n",
    "print(f\"ROC AUC: {rf_roc_auc:.2f}\")\n",
    "print(f\"Accuracy: {rf_accuracy:.2f}\")\n",
    "print(f\"Precision: {rf_precision:.2f}\")\n",
    "print(f\"Recall: {rf_recall:.2f}\")\n",
    "\n",
    "# Обучение Gradient Boosting\n",
    "gb_model = GradientBoostingClassifier(n_estimators=100, random_state=42)\n",
    "gb_model.fit(X_train, y_train)\n",
    "\n",
    "# Прогноз на тестовых данных\n",
    "gb_pred = gb_model.predict(X_test)\n",
    "\n",
    "# Расчет метрик для Gradient Boosting\n",
    "gb_roc_auc = roc_auc_score(y_test, gb_pred)\n",
    "gb_accuracy = accuracy_score(y_test, gb_pred)\n",
    "gb_precision = precision_score(y_test, gb_pred)\n",
    "gb_recall = recall_score(y_test, gb_pred)\n",
    "\n",
    "print(\"\\nGradient Boosting метрики:\")\n",
    "print(f\"ROC AUC: {gb_roc_auc:.2f}\")\n",
    "print(f\"Accuracy: {gb_accuracy:.2f}\")\n",
    "print(f\"Precision: {gb_precision:.2f}\")\n",
    "print(f\"Recall: {gb_recall:.2f}\")"
   ]
  },
  {
   "cell_type": "code",
   "execution_count": 10,
   "id": "ae1e040c-ddd0-4952-9dcb-58c1226da40a",
   "metadata": {
    "tags": []
   },
   "outputs": [
    {
     "name": "stdout",
     "output_type": "stream",
     "text": [
      "\n",
      "MLP (Neural Network) метрики:\n",
      "ROC AUC: 0.56\n",
      "Accuracy: 0.65\n",
      "Precision: 0.72\n",
      "Recall: 0.79\n"
     ]
    }
   ],
   "source": [
    "# Обучение MLP (Multi-Layer Perceptron) нейронной сети\n",
    "mlp_model = MLPClassifier(hidden_layer_sizes=(30,), max_iter=500, random_state=42)\n",
    "mlp_model.fit(X_train, y_train)\n",
    "\n",
    "# Прогноз на тестовых данных\n",
    "mlp_pred = mlp_model.predict(X_test)\n",
    "\n",
    "# Расчет метрик для MLP нейронной сети\n",
    "mlp_roc_auc = roc_auc_score(y_test, mlp_pred)\n",
    "mlp_accuracy = accuracy_score(y_test, mlp_pred)\n",
    "mlp_precision = precision_score(y_test, mlp_pred)\n",
    "mlp_recall = recall_score(y_test, mlp_pred)\n",
    "\n",
    "print(\"\\nMLP (Neural Network) метрики:\")\n",
    "print(f\"ROC AUC: {mlp_roc_auc:.2f}\")\n",
    "print(f\"Accuracy: {mlp_accuracy:.2f}\")\n",
    "print(f\"Precision: {mlp_precision:.2f}\")\n",
    "print(f\"Recall: {mlp_recall:.2f}\")"
   ]
  },
  {
   "cell_type": "markdown",
   "id": "d2d6eb00-77fd-40dc-a3c5-35c1fe0200c0",
   "metadata": {},
   "source": [
    "## Экспериментируйте\n",
    "Для получения лучшего качества придется поэкспериментировать. Подсказка: попробуйте оптимизировать гиперпараметры модели"
   ]
  },
  {
   "cell_type": "markdown",
   "id": "46fbfc4b",
   "metadata": {},
   "source": [
    "Создадим ансамбли из изначальных моделей, а также изменим для изначальных моделей гиперпараметры. Также выполним предобработку данных."
   ]
  },
  {
   "cell_type": "code",
   "execution_count": null,
   "id": "6a64eb5b",
   "metadata": {},
   "outputs": [
    {
     "name": "stdout",
     "output_type": "stream",
     "text": [
      "Метрики для Voting Ensemble:\n",
      "ROC AUC: 0.7952\n",
      "Accuracy: 0.7650\n",
      "Precision: 0.7935\n",
      "Recall: 0.8913\n",
      "\n",
      "Метрики для Stacking Ensemble:\n",
      "ROC AUC: 0.7838\n",
      "Accuracy: 0.7300\n",
      "Precision: 0.8387\n",
      "Recall: 0.7536\n",
      "\n",
      "Сравнение ROC AUC всех моделей:\n",
      "RandomForest: 0.6751\n",
      "GradientBoosting: 0.6703\n",
      "MLP: 0.5562\n",
      "Voting Ensemble: 0.7952\n",
      "Stacking Ensemble: 0.7838\n"
     ]
    }
   ],
   "source": [
    "# Создание ансамбля моделей\n",
    "from sklearn.ensemble import VotingClassifier, StackingClassifier\n",
    "from sklearn.preprocessing import StandardScaler\n",
    "from sklearn.linear_model import LogisticRegression\n",
    "\n",
    "# 1. Предобработка данных - масштабирование\n",
    "scaler = StandardScaler()\n",
    "X_train_scaled = scaler.fit_transform(X_train)\n",
    "X_test_scaled = scaler.transform(X_test)\n",
    "\n",
    "# 2. Настройка базовых моделей (уже представленных в ноутбуке)\n",
    "rf_model = RandomForestClassifier(\n",
    "    n_estimators=200,\n",
    "    max_depth=5,\n",
    "    min_samples_split=10,\n",
    "    min_samples_leaf=4,\n",
    "    max_features='sqrt',\n",
    "    bootstrap=True,\n",
    "    random_state=42\n",
    ")\n",
    "\n",
    "gb_model = GradientBoostingClassifier(\n",
    "    n_estimators=150,\n",
    "    max_depth=3,\n",
    "    learning_rate=0.05,\n",
    "    subsample=0.8,\n",
    "    random_state=42\n",
    ")\n",
    "\n",
    "mlp_model = MLPClassifier(\n",
    "    hidden_layer_sizes=(50, 25),\n",
    "    max_iter=1000,\n",
    "    alpha=0.0001,\n",
    "    learning_rate='adaptive',\n",
    "    random_state=42\n",
    ")\n",
    "\n",
    "# 3. Создание Voting Classifier (голосующий ансамбль)\n",
    "voting_clf = VotingClassifier(\n",
    "    estimators=[\n",
    "        ('rf', rf_model),\n",
    "        ('gb', gb_model),\n",
    "        ('mlp', mlp_model)\n",
    "    ],\n",
    "    voting='soft',  # Используем вероятности для голосования\n",
    "    weights=[2, 2, 1]  # Даем больший вес RandomForest и GradientBoosting, так как они демонстрировали лучшие результаты\n",
    ")\n",
    "\n",
    "# 4. Обучение голосующего ансамбля\n",
    "voting_clf.fit(X_train_scaled, y_train)\n",
    "\n",
    "# 5. Получение прогнозов и вероятностей\n",
    "voting_pred = voting_clf.predict(X_test_scaled)\n",
    "voting_proba = voting_clf.predict_proba(X_test_scaled)[:, 1]\n",
    "\n",
    "# 6. Расчет метрик для голосующего ансамбля\n",
    "voting_roc_auc = roc_auc_score(y_test, voting_proba)\n",
    "voting_accuracy = accuracy_score(y_test, voting_pred)\n",
    "voting_precision = precision_score(y_test, voting_pred)\n",
    "voting_recall = recall_score(y_test, voting_pred)\n",
    "\n",
    "print(\"Метрики для Voting Ensemble:\")\n",
    "print(f\"ROC AUC: {voting_roc_auc:.4f}\")\n",
    "print(f\"Accuracy: {voting_accuracy:.4f}\")\n",
    "print(f\"Precision: {voting_precision:.4f}\")\n",
    "print(f\"Recall: {voting_recall:.4f}\")\n",
    "\n",
    "# 7. Создание Stacking Classifier (стекинг ансамбль)\n",
    "estimators = [\n",
    "    ('rf', rf_model),\n",
    "    ('gb', gb_model),\n",
    "    ('mlp', mlp_model)\n",
    "]\n",
    "\n",
    "stacking_clf = StackingClassifier(\n",
    "    estimators=estimators,\n",
    "    final_estimator=LogisticRegression(C=1.0, class_weight='balanced', max_iter=1000),\n",
    "    cv=5,\n",
    "    stack_method='predict_proba'\n",
    ")\n",
    "\n",
    "# 8. Обучение стекинг ансамбля\n",
    "stacking_clf.fit(X_train_scaled, y_train)\n",
    "\n",
    "# 9. Получение прогнозов и вероятностей для стекинга\n",
    "stacking_pred = stacking_clf.predict(X_test_scaled)\n",
    "stacking_proba = stacking_clf.predict_proba(X_test_scaled)[:, 1]\n",
    "\n",
    "# 10. Расчет метрик для стекинг ансамбля\n",
    "stacking_roc_auc = roc_auc_score(y_test, stacking_proba)\n",
    "stacking_accuracy = accuracy_score(y_test, stacking_pred)\n",
    "stacking_precision = precision_score(y_test, stacking_pred)\n",
    "stacking_recall = recall_score(y_test, stacking_pred)\n",
    "\n",
    "print(\"\\nМетрики для Stacking Ensemble:\")\n",
    "print(f\"ROC AUC: {stacking_roc_auc:.4f}\")\n",
    "print(f\"Accuracy: {stacking_accuracy:.4f}\")\n",
    "print(f\"Precision: {stacking_precision:.4f}\")\n",
    "print(f\"Recall: {stacking_recall:.4f}\")\n",
    "\n",
    "# 11. Сравнение с индивидуальными моделями\n",
    "# Обучение базовых моделей на масштабированных данных\n",
    "rf_model.fit(X_train_scaled, y_train)\n",
    "gb_model.fit(X_train_scaled, y_train)\n",
    "mlp_model.fit(X_train_scaled, y_train)\n",
    "\n",
    "\n",
    "\n",
    "print(\"\\nСравнение ROC AUC всех моделей:\")\n",
    "print(f\"RandomForest: {rf_roc_auc:.4f}\")\n",
    "print(f\"GradientBoosting: {gb_roc_auc:.4f}\")\n",
    "print(f\"MLP: {mlp_roc_auc:.4f}\")\n",
    "print(f\"Voting Ensemble: {voting_roc_auc:.4f}\")\n",
    "print(f\"Stacking Ensemble: {stacking_roc_auc:.4f}\")\n",
    "\n"
   ]
  },
  {
   "cell_type": "markdown",
   "id": "0d3d0f38",
   "metadata": {},
   "source": [
    "Таким образом, лучший результат, которого удалось достичь у Voting Ensemble: AUC = 0.7952"
   ]
  }
 ],
 "metadata": {
  "kernelspec": {
   "display_name": "Python 3",
   "language": "python",
   "name": "python3"
  },
  "language_info": {
   "codemirror_mode": {
    "name": "ipython",
    "version": 3
   },
   "file_extension": ".py",
   "mimetype": "text/x-python",
   "name": "python",
   "nbconvert_exporter": "python",
   "pygments_lexer": "ipython3",
   "version": "3.12.0"
  }
 },
 "nbformat": 4,
 "nbformat_minor": 5
}
